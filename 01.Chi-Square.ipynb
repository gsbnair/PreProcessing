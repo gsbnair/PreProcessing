{
 "cells": [
  {
   "cell_type": "markdown",
   "metadata": {
    "collapsed": true
   },
   "source": [
    "# CHI-Square Test"
   ]
  },
  {
   "cell_type": "code",
   "execution_count": 15,
   "metadata": {
    "collapsed": true
   },
   "outputs": [],
   "source": [
    "# chi-squared test with similar proportions\n",
    "from scipy.stats import chi2_contingency\n",
    "from scipy.stats import chi2\n"
   ]
  },
  {
   "cell_type": "code",
   "execution_count": 16,
   "metadata": {},
   "outputs": [
    {
     "name": "stdout",
     "output_type": "stream",
     "text": [
      "[[200, 150, 50], [250, 300, 50]]\n"
     ]
    }
   ],
   "source": [
    "# contingency table\n",
    "table = [\t[200,150,50],\n",
    "\t\t\t[250,300,50]]\n",
    "print(table)"
   ]
  },
  {
   "cell_type": "code",
   "execution_count": 17,
   "metadata": {},
   "outputs": [
    {
     "name": "stdout",
     "output_type": "stream",
     "text": [
      "dof=2\n",
      "Expected:\n",
      " [[180. 180.  40.]\n",
      " [270. 270.  60.]]\n",
      "Statistic:  16.203703703703702\n",
      "p:  0.0003029775487145488\n"
     ]
    }
   ],
   "source": [
    "statistic, p, dof, expected = chi2_contingency(table)\n",
    "print('dof=%d' % dof)\n",
    "print('Expected:\\n',expected)\n",
    "print('Statistic: ', statistic)\n",
    "print('p: ', p)"
   ]
  },
  {
   "cell_type": "code",
   "execution_count": null,
   "metadata": {
    "collapsed": true
   },
   "outputs": [],
   "source": []
  },
  {
   "cell_type": "code",
   "execution_count": 18,
   "metadata": {},
   "outputs": [
    {
     "name": "stdout",
     "output_type": "stream",
     "text": [
      "probability=0.950, \n",
      "critical=5.991, \n",
      "statistic=16.204\n"
     ]
    }
   ],
   "source": [
    "# interpret test-statistic\n",
    "prob = 0.95\n",
    "critical = chi2.ppf(prob, dof)\n",
    "print('probability=%.3f, \\ncritical=%.3f, \\nstatistic=%.3f' % (prob, critical, statistic))"
   ]
  },
  {
   "cell_type": "code",
   "execution_count": 19,
   "metadata": {},
   "outputs": [
    {
     "name": "stdout",
     "output_type": "stream",
     "text": [
      "statistic >= critical \n",
      "-> Dependent (reject H0)\n"
     ]
    }
   ],
   "source": [
    "if abs(statistic) >= critical:\n",
    "\tprint('statistic >= critical \\n-> Dependent (reject H0)')\n",
    "else:\n",
    "\tprint('statistic) < critical \\n-> Independent (fail to reject H0)')"
   ]
  },
  {
   "cell_type": "code",
   "execution_count": 20,
   "metadata": {},
   "outputs": [
    {
     "name": "stdout",
     "output_type": "stream",
     "text": [
      "significance [alpha =(1.0 - Prob)] = 0.050, \n",
      "p = 0.00030298\n"
     ]
    }
   ],
   "source": [
    "# interpret p-value\n",
    "alpha = 1.0 - prob\n",
    "print('significance [alpha = (1.0 - Prob)] = %.3f, \\np = %.8f' % (alpha, p))"
   ]
  },
  {
   "cell_type": "code",
   "execution_count": 21,
   "metadata": {},
   "outputs": [
    {
     "name": "stdout",
     "output_type": "stream",
     "text": [
      "p <= alpha \n",
      "-> Dependent (reject H0)\n"
     ]
    }
   ],
   "source": [
    "if p <= alpha:\n",
    "\tprint('p <= alpha \\n-> Dependent (reject H0)')\n",
    "else:\n",
    "\tprint('p  > alpha \\n-> Independent (fail to reject H0)')"
   ]
  }
 ],
 "metadata": {
  "kernelspec": {
   "display_name": "Python 3",
   "language": "python",
   "name": "python3"
  },
  "language_info": {
   "codemirror_mode": {
    "name": "ipython",
    "version": 3
   },
   "file_extension": ".py",
   "mimetype": "text/x-python",
   "name": "python",
   "nbconvert_exporter": "python",
   "pygments_lexer": "ipython3",
   "version": "3.6.3"
  }
 },
 "nbformat": 4,
 "nbformat_minor": 2
}
