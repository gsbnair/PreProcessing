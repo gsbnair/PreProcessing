{
 "cells": [
  {
   "cell_type": "markdown",
   "metadata": {},
   "source": [
    "# Chi-Square - Titanic Data"
   ]
  },
  {
   "cell_type": "markdown",
   "metadata": {},
   "source": [
    "Feature selection is one of the important steps in building machine learning models. Training algorithms with irrelevant features will affect the performance of your model. "
   ]
  },
  {
   "cell_type": "markdown",
   "metadata": {},
   "source": [
    "Let us do Feature selection usinf the famous ***`Titanic Dataset`***\n",
    "\n",
    "Titanic collided with a huge iceberg on April 15, 1912. Many people lost their lives and it  caused shock to the international community. \n",
    "\n",
    "One of the reasons for the heavy loss was that there were not enough lifeboats. Many lucky people did survived. \n",
    "\n",
    "***Can we use machine learning to predict who all have survived?***"
   ]
  },
  {
   "cell_type": "code",
   "execution_count": null,
   "metadata": {
    "collapsed": true
   },
   "outputs": [],
   "source": [
    "Train dataset - 891\n",
    "Test dataset - 892 to 1309\n"
   ]
  }
 ],
 "metadata": {
  "kernelspec": {
   "display_name": "Python 3",
   "language": "python",
   "name": "python3"
  },
  "language_info": {
   "codemirror_mode": {
    "name": "ipython",
    "version": 3
   },
   "file_extension": ".py",
   "mimetype": "text/x-python",
   "name": "python",
   "nbconvert_exporter": "python",
   "pygments_lexer": "ipython3",
   "version": "3.6.3"
  }
 },
 "nbformat": 4,
 "nbformat_minor": 2
}
